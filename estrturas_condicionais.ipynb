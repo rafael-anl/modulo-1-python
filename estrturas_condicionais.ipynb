{
  "nbformat": 4,
  "nbformat_minor": 0,
  "metadata": {
    "colab": {
      "provenance": [],
      "authorship_tag": "ABX9TyPCYgtA5WfAANKgagAF9yqb",
      "include_colab_link": true
    },
    "kernelspec": {
      "name": "python3",
      "display_name": "Python 3"
    },
    "language_info": {
      "name": "python"
    }
  },
  "cells": [
    {
      "cell_type": "markdown",
      "metadata": {
        "id": "view-in-github",
        "colab_type": "text"
      },
      "source": [
        "<a href=\"https://colab.research.google.com/github/rafael-anl/modulo-1-python/blob/main/estrturas_condicionais.ipynb\" target=\"_parent\"><img src=\"https://colab.research.google.com/assets/colab-badge.svg\" alt=\"Open In Colab\"/></a>"
      ]
    },
    {
      "cell_type": "markdown",
      "source": [
        "# condicional"
      ],
      "metadata": {
        "id": "l7Uv9DAs1VHN"
      }
    },
    {
      "cell_type": "code",
      "source": [
        "#if - se\n",
        "if 45 >= 45:\n",
        "  print(\"verdadeiro\")"
      ],
      "metadata": {
        "id": "9bXlZ9Df1aZ8"
      },
      "execution_count": null,
      "outputs": []
    },
    {
      "cell_type": "code",
      "source": [
        "# if/else - se, ou se\n",
        "if 45 >= 46:\n",
        "  print(\"verdadeiro\")\n",
        "else:\n",
        "  print(\"falso\")"
      ],
      "metadata": {
        "id": "C4C6pyOO2DA4"
      },
      "execution_count": null,
      "outputs": []
    },
    {
      "cell_type": "code",
      "source": [
        "# if / elif / else\n",
        "num1 = 35\n",
        "num2 = 35\n",
        "if num1 > num2:\n",
        "  print(\"num1 é maior que num2\")\n",
        "elif num1 < num2:\n",
        "  print(\"num1 é menor que num2\")\n",
        "else:\n",
        "  print(\"os dois números são iguais\")"
      ],
      "metadata": {
        "id": "lELs26-Q2jgT"
      },
      "execution_count": null,
      "outputs": []
    },
    {
      "cell_type": "markdown",
      "source": [
        "# condicional com operadores lógicos"
      ],
      "metadata": {
        "id": "2KTkjx2L3vXg"
      }
    },
    {
      "cell_type": "code",
      "source": [
        "num1 = 14\n",
        "num2 = 15\n",
        "num3 = 16\n",
        "if (num1 > num2) and (num1 > num3):\n",
        "  print(\"num1 é o maior número\")\n",
        "else :\n",
        "  print(\"num1 não é o maior número\")"
      ],
      "metadata": {
        "id": "PSk5hrv34H6l"
      },
      "execution_count": null,
      "outputs": []
    }
  ]
}