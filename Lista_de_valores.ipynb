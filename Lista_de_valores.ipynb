{
  "nbformat": 4,
  "nbformat_minor": 0,
  "metadata": {
    "colab": {
      "provenance": [],
      "authorship_tag": "ABX9TyNnOUlCMB2KFdBbJ/EkMcnj",
      "include_colab_link": true
    },
    "kernelspec": {
      "name": "python3",
      "display_name": "Python 3"
    },
    "language_info": {
      "name": "python"
    }
  },
  "cells": [
    {
      "cell_type": "markdown",
      "metadata": {
        "id": "view-in-github",
        "colab_type": "text"
      },
      "source": [
        "<a href=\"https://colab.research.google.com/github/rafael-anl/modulo-1-python/blob/main/Lista_de_valores.ipynb\" target=\"_parent\"><img src=\"https://colab.research.google.com/assets/colab-badge.svg\" alt=\"Open In Colab\"/></a>"
      ]
    },
    {
      "cell_type": "markdown",
      "source": [
        "#**Utilizaçaõ de lista de valores**"
      ],
      "metadata": {
        "id": "iTXT6matqSRu"
      }
    },
    {
      "cell_type": "markdown",
      "source": [
        "##Lista"
      ],
      "metadata": {
        "id": "KkwEeovYxCT8"
      }
    },
    {
      "cell_type": "code",
      "source": [
        "# lista - quando tem colchete\n",
        "[1,2,3,4]"
      ],
      "metadata": {
        "id": "HLpgaZaJqeUt"
      },
      "execution_count": null,
      "outputs": []
    },
    {
      "cell_type": "code",
      "source": [
        "lista = [1, 5, 6, 9]"
      ],
      "metadata": {
        "id": "9SxAvFWSr624"
      },
      "execution_count": 26,
      "outputs": []
    },
    {
      "cell_type": "code",
      "source": [
        "type(lista)"
      ],
      "metadata": {
        "id": "zF-Om7rYs6gF"
      },
      "execution_count": null,
      "outputs": []
    },
    {
      "cell_type": "code",
      "source": [
        "lista.append (\"livia\")  #adicionar um novo valor no final da lista"
      ],
      "metadata": {
        "id": "Vi2YkjbKtcy1"
      },
      "execution_count": 30,
      "outputs": []
    },
    {
      "cell_type": "code",
      "source": [
        "print(lista)\n",
        "print(lista[3]) #colchete escolhe a posição do item selecionado da lista"
      ],
      "metadata": {
        "id": "zNtv5wn_uAJT"
      },
      "execution_count": null,
      "outputs": []
    },
    {
      "cell_type": "markdown",
      "source": [
        "##Tupla"
      ],
      "metadata": {
        "id": "q62Xrki0xIVj"
      }
    },
    {
      "cell_type": "code",
      "source": [
        "#Tupla - formada por parênteses e os seus valores não podem ser modificados\n",
        "(1,2,3,4,5)"
      ],
      "metadata": {
        "id": "pA0PSIG7rBJC"
      },
      "execution_count": null,
      "outputs": []
    },
    {
      "cell_type": "code",
      "source": [
        "tupla = (12, 42, 16, 816)"
      ],
      "metadata": {
        "id": "Ad2C2V2_uwPk"
      },
      "execution_count": 32,
      "outputs": []
    },
    {
      "cell_type": "code",
      "source": [
        "tupla.append(\"livia\")"
      ],
      "metadata": {
        "id": "a04rR2n9vEki"
      },
      "execution_count": null,
      "outputs": []
    },
    {
      "cell_type": "code",
      "source": [
        "print(tupla)\n",
        "print(tupla[2])"
      ],
      "metadata": {
        "id": "eRPbrS7SvNV5"
      },
      "execution_count": null,
      "outputs": []
    },
    {
      "cell_type": "markdown",
      "source": [
        "##Dicionário"
      ],
      "metadata": {
        "id": "kPHd5gfRxLaV"
      }
    },
    {
      "cell_type": "code",
      "source": [
        "#Dicionário - formado por chave\n",
        "{ 'num1' : 1, 'num2' : 2}"
      ],
      "metadata": {
        "id": "3gNJbgfNrHhV"
      },
      "execution_count": null,
      "outputs": []
    },
    {
      "cell_type": "code",
      "source": [
        "dicionario = { 'num1' : 1, 'num2' : 2, 'nome' : \"rafael\", 'sobrenome' : \"da silva lima\"}     #toda chave/dado(variavél) tem seu valor definido"
      ],
      "metadata": {
        "id": "ea31QmtBrWiL"
      },
      "execution_count": 43,
      "outputs": []
    },
    {
      "cell_type": "code",
      "source": [
        "print (dicionario)"
      ],
      "metadata": {
        "id": "4SbqfZ_2v9xn"
      },
      "execution_count": null,
      "outputs": []
    },
    {
      "cell_type": "code",
      "source": [
        "print (dicionario['num1'])"
      ],
      "metadata": {
        "id": "tc_yrondwDVT"
      },
      "execution_count": null,
      "outputs": []
    },
    {
      "cell_type": "code",
      "source": [
        "print (dicionario['nome'])"
      ],
      "metadata": {
        "id": "MXvjr18twEZx"
      },
      "execution_count": null,
      "outputs": []
    },
    {
      "cell_type": "code",
      "source": [
        "print (dicionario['sobrenome'])"
      ],
      "metadata": {
        "id": "9cj_AHfIwSP_"
      },
      "execution_count": null,
      "outputs": []
    }
  ]
}