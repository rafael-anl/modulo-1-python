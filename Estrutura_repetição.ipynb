{
  "nbformat": 4,
  "nbformat_minor": 0,
  "metadata": {
    "colab": {
      "provenance": [],
      "authorship_tag": "ABX9TyOTaCFjDTQ+qWgZcRTpk/EO",
      "include_colab_link": true
    },
    "kernelspec": {
      "name": "python3",
      "display_name": "Python 3"
    },
    "language_info": {
      "name": "python"
    }
  },
  "cells": [
    {
      "cell_type": "markdown",
      "metadata": {
        "id": "view-in-github",
        "colab_type": "text"
      },
      "source": [
        "<a href=\"https://colab.research.google.com/github/rafael-anl/modulo-1-python/blob/main/Estrutura_repeti%C3%A7%C3%A3o.ipynb\" target=\"_parent\"><img src=\"https://colab.research.google.com/assets/colab-badge.svg\" alt=\"Open In Colab\"/></a>"
      ]
    },
    {
      "cell_type": "markdown",
      "source": [
        "#Estruturas de repetiçao"
      ],
      "metadata": {
        "id": "_RpDqOyWx1cs"
      }
    },
    {
      "cell_type": "markdown",
      "source": [
        "#for"
      ],
      "metadata": {
        "id": "6XY_8coPx481"
      }
    },
    {
      "cell_type": "code",
      "execution_count": null,
      "metadata": {
        "id": "vbicMwWNxxfI"
      },
      "outputs": [],
      "source": [
        "#For + range - adiciona uma contagem até quando o usuário quiser\n",
        "for numero in range(19):\n",
        "  print(numero)"
      ]
    },
    {
      "cell_type": "code",
      "source": [
        "#for range + break - adiciona uma contagem que para onde o usuário determinar\n",
        "for numero in range(19):\n",
        "  if numero == 12:\n",
        "    break\n",
        "  print(numero)"
      ],
      "metadata": {
        "id": "3HV15BU4yaff"
      },
      "execution_count": null,
      "outputs": []
    },
    {
      "cell_type": "code",
      "source": [
        "lista = [1, 2, 3, 4, 5, 6]"
      ],
      "metadata": {
        "id": "djIm2YP_yw-J"
      },
      "execution_count": 15,
      "outputs": []
    },
    {
      "cell_type": "code",
      "source": [
        "#for simples - nos da todos os dados da lista\n",
        "for val in lista:\n",
        "  print(val)"
      ],
      "metadata": {
        "id": "wt9usWh_0FMt"
      },
      "execution_count": null,
      "outputs": []
    },
    {
      "cell_type": "code",
      "source": [
        "#for com enumerate - mostra posição e valor da variável\n",
        "for i, val in enumerate(lista):\n",
        "  print(i, val)"
      ],
      "metadata": {
        "id": "BIitMprt0mBn"
      },
      "execution_count": null,
      "outputs": []
    },
    {
      "cell_type": "markdown",
      "source": [
        "##For com operadores compostos"
      ],
      "metadata": {
        "id": "iBM-r2641aMz"
      }
    },
    {
      "cell_type": "code",
      "source": [
        "lista = [1, 2, 3, 4, 5, 6, 7]"
      ],
      "metadata": {
        "id": "lTJGmxl61e3v"
      },
      "execution_count": 32,
      "outputs": []
    },
    {
      "cell_type": "code",
      "source": [
        "for val in lista:  #somou um numero a mais a cada valor da lista, também pode ser utilizado com todas as operfacões\n",
        "  val += 1\n",
        "  print(val)"
      ],
      "metadata": {
        "id": "ssZyXoGq1nQ9"
      },
      "execution_count": null,
      "outputs": []
    },
    {
      "cell_type": "code",
      "source": [
        "for val in lista:\n",
        "  val -= 1\n",
        "  print(val)"
      ],
      "metadata": {
        "id": "y5fyJ2vl2lCb"
      },
      "execution_count": null,
      "outputs": []
    },
    {
      "cell_type": "code",
      "source": [
        "for val in lista:\n",
        "  val *= 2\n",
        "  print(val)"
      ],
      "metadata": {
        "id": "d_EH-uia2w6F"
      },
      "execution_count": null,
      "outputs": []
    },
    {
      "cell_type": "markdown",
      "source": [
        "#While"
      ],
      "metadata": {
        "id": "ZbdO8wH226Zl"
      }
    },
    {
      "cell_type": "code",
      "source": [
        "val = 5\n",
        "while val < 6:\n",
        "  val *=2\n",
        "  print(val)"
      ],
      "metadata": {
        "collapsed": true,
        "id": "28z3bWNd28m3"
      },
      "execution_count": null,
      "outputs": []
    },
    {
      "cell_type": "code",
      "source": [
        "val = 4\n",
        "while val < 6:\n",
        "  val *=2\n",
        "  print(val)"
      ],
      "metadata": {
        "id": "nqtN-I6H37yz"
      },
      "execution_count": null,
      "outputs": []
    }
  ]
}