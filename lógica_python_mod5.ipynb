{
  "nbformat": 4,
  "nbformat_minor": 0,
  "metadata": {
    "colab": {
      "provenance": [],
      "include_colab_link": true
    },
    "kernelspec": {
      "name": "python3",
      "display_name": "Python 3"
    },
    "language_info": {
      "name": "python"
    }
  },
  "cells": [
    {
      "cell_type": "markdown",
      "metadata": {
        "id": "view-in-github",
        "colab_type": "text"
      },
      "source": [
        "<a href=\"https://colab.research.google.com/github/rafael-anl/modulo-1-python/blob/main/l%C3%B3gica_python_mod5.ipynb\" target=\"_parent\"><img src=\"https://colab.research.google.com/assets/colab-badge.svg\" alt=\"Open In Colab\"/></a>"
      ]
    },
    {
      "cell_type": "markdown",
      "source": [
        "# **CALCULADORA INTELIGENTE**"
      ],
      "metadata": {
        "id": "l7Uv9DAs1VHN"
      }
    },
    {
      "cell_type": "code",
      "source": [
        "while True:\n",
        "    num1 = float(input(\"\\nDigite o primeiro número: \"))\n",
        "    num2 = float(input(\"Digite o segundo número: \"))\n",
        "\n",
        "    print(\"\\nEscolha uma operação de 1 a 9:\")\n",
        "    print(\"1 - Subtração\")\n",
        "    print(\"2 - Soma\")\n",
        "    print(\"3 - Multiplicação\")\n",
        "    print(\"4 - Divisão\")\n",
        "    print(\"5 - Resto da divisão\")\n",
        "    print(\"6 - Potenciação\")\n",
        "    print(\"7 - maior ou menor\")\n",
        "    print(\"8 - igual ou diferente\")\n",
        "    print(\"9 - Sair\")\n",
        "\n",
        "    opcao = input(\"Digite a operação desejada: \")\n",
        "\n",
        "    if opcao == \"1\":\n",
        "        print(\"Resultado da Subtração:\", num1 - num2)\n",
        "    elif opcao == \"2\":\n",
        "        print(\"Resultado da Soma:\", num1 + num2)\n",
        "    elif opcao == \"3\":\n",
        "        print(\"Resultado da Multiplicação:\", num1 * num2)\n",
        "    elif opcao == \"4\":\n",
        "        if num2 != 0:\n",
        "            print(\"Resultado da Divisão:\", num1 / num2)\n",
        "        else:\n",
        "            print(\"Erro! Não é possível dividir por zero.\")\n",
        "    elif opcao == \"5\":\n",
        "        if num2 != 0:\n",
        "            print(\"Resto da divisão:\", num1 % num2)\n",
        "        else:\n",
        "            print(\"Erro! Não é possível calcular o resto com divisor zero.\")\n",
        "    elif opcao == \"6\":\n",
        "        print(\"Resultado da Potenciação:\", num1 ** num2)\n",
        "    elif opcao == \"7\":\n",
        "        if num1 > num2:\n",
        "            print(\"O maior número é:\", num1)\n",
        "        elif num2 > num1:\n",
        "            print(\"O maior número é:\", num2)\n",
        "        else:\n",
        "            print(\"Os números são iguais.\")\n",
        "    elif opcao == \"8\":\n",
        "        if num1 == num2:\n",
        "            print(\"Os números são iguais.\")\n",
        "        else:\n",
        "            print(\"Os números são diferentes.\")\n",
        "    elif opcao == \"9\":\n",
        "        print(\"Saindo do programa, até a próxima...\")\n",
        "        break\n",
        "    else:\n",
        "        print(\"Opção inválida! Escolha uma opção de operção de 1 a 7.\")"
      ],
      "metadata": {
        "id": "VpYC_WdfPb0y"
      },
      "execution_count": null,
      "outputs": []
    }
  ]
}