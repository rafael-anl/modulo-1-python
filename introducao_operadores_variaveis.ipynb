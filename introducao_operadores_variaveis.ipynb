{
  "nbformat": 4,
  "nbformat_minor": 0,
  "metadata": {
    "colab": {
      "provenance": [],
      "authorship_tag": "ABX9TyOx0OWNKyYjSAZFnrizuddI",
      "include_colab_link": true
    },
    "kernelspec": {
      "name": "python3",
      "display_name": "Python 3"
    },
    "language_info": {
      "name": "python"
    }
  },
  "cells": [
    {
      "cell_type": "markdown",
      "metadata": {
        "id": "view-in-github",
        "colab_type": "text"
      },
      "source": [
        "<a href=\"https://colab.research.google.com/github/rafael-anl/modulo-1-python/blob/main/introducao_operadores_variaveis.ipynb\" target=\"_parent\"><img src=\"https://colab.research.google.com/assets/colab-badge.svg\" alt=\"Open In Colab\"/></a>"
      ]
    },
    {
      "cell_type": "markdown",
      "source": [
        "#Operadores Aritméticos"
      ],
      "metadata": {
        "id": "BRa-boCGBhw0"
      }
    },
    {
      "cell_type": "code",
      "execution_count": null,
      "metadata": {
        "colab": {
          "base_uri": "https://localhost:8080/"
        },
        "id": "DIr2GTUN7mCE",
        "outputId": "c9a12993-9b22-45a2-9764-cc65d77a6f5a"
      },
      "outputs": [
        {
          "output_type": "execute_result",
          "data": {
            "text/plain": [
              "260"
            ]
          },
          "metadata": {},
          "execution_count": 2
        }
      ],
      "source": [
        "# adição\n",
        "124 + 136"
      ]
    },
    {
      "cell_type": "code",
      "source": [
        "# subtração\n",
        "176234 - 1672"
      ],
      "metadata": {
        "colab": {
          "base_uri": "https://localhost:8080/"
        },
        "id": "VDk4YzHc-lvy",
        "outputId": "717a4bf0-6027-4fd1-a8f7-6ed32664a8c9"
      },
      "execution_count": null,
      "outputs": [
        {
          "output_type": "execute_result",
          "data": {
            "text/plain": [
              "174562"
            ]
          },
          "metadata": {},
          "execution_count": 3
        }
      ]
    },
    {
      "cell_type": "code",
      "source": [
        "# multiplicação\n",
        "12 * 10"
      ],
      "metadata": {
        "colab": {
          "base_uri": "https://localhost:8080/"
        },
        "id": "Vf9Wjsyp-wNS",
        "outputId": "24ed3f5d-5164-42fe-a892-750052624f58"
      },
      "execution_count": null,
      "outputs": [
        {
          "output_type": "execute_result",
          "data": {
            "text/plain": [
              "120"
            ]
          },
          "metadata": {},
          "execution_count": 4
        }
      ]
    },
    {
      "cell_type": "code",
      "source": [
        "# divisão\n",
        "10 / 2"
      ],
      "metadata": {
        "colab": {
          "base_uri": "https://localhost:8080/"
        },
        "id": "_F13Hzbj-49V",
        "outputId": "56a01e72-88c0-4583-cbe0-890b58520aef"
      },
      "execution_count": null,
      "outputs": [
        {
          "output_type": "execute_result",
          "data": {
            "text/plain": [
              "5.0"
            ]
          },
          "metadata": {},
          "execution_count": 6
        }
      ]
    },
    {
      "cell_type": "code",
      "source": [
        "# divisão inteira\n",
        "10 // 2"
      ],
      "metadata": {
        "colab": {
          "base_uri": "https://localhost:8080/"
        },
        "id": "kUMn0ADK_Ad1",
        "outputId": "67e3e600-334f-40db-888d-b2b54e895474"
      },
      "execution_count": null,
      "outputs": [
        {
          "output_type": "execute_result",
          "data": {
            "text/plain": [
              "5"
            ]
          },
          "metadata": {},
          "execution_count": 7
        }
      ]
    },
    {
      "cell_type": "code",
      "source": [
        "# resto da divisão\n",
        "45 % 6"
      ],
      "metadata": {
        "colab": {
          "base_uri": "https://localhost:8080/"
        },
        "id": "-ZSt1q08_RE9",
        "outputId": "cf693675-cb6e-4131-c8c9-1a6ba623ed59"
      },
      "execution_count": null,
      "outputs": [
        {
          "output_type": "execute_result",
          "data": {
            "text/plain": [
              "3"
            ]
          },
          "metadata": {},
          "execution_count": 10
        }
      ]
    },
    {
      "cell_type": "code",
      "source": [
        "# potenciação\n",
        "13 ** 2"
      ],
      "metadata": {
        "colab": {
          "base_uri": "https://localhost:8080/"
        },
        "id": "oUoNk46j_iuF",
        "outputId": "1a0d9463-352f-403a-aa46-77f8ab60b292"
      },
      "execution_count": null,
      "outputs": [
        {
          "output_type": "execute_result",
          "data": {
            "text/plain": [
              "169"
            ]
          },
          "metadata": {},
          "execution_count": 11
        }
      ]
    },
    {
      "cell_type": "code",
      "source": [
        "# menor\n",
        "13 < 14"
      ],
      "metadata": {
        "colab": {
          "base_uri": "https://localhost:8080/"
        },
        "id": "X273X_D__vJ9",
        "outputId": "0335d5e8-be9e-4ecf-ccf0-54018edb6d16"
      },
      "execution_count": null,
      "outputs": [
        {
          "output_type": "execute_result",
          "data": {
            "text/plain": [
              "True"
            ]
          },
          "metadata": {},
          "execution_count": 14
        }
      ]
    },
    {
      "cell_type": "code",
      "source": [
        "# menor igual\n",
        "13 <= 15"
      ],
      "metadata": {
        "colab": {
          "base_uri": "https://localhost:8080/"
        },
        "id": "G01wUcFl_95R",
        "outputId": "35204084-78c5-419c-f96f-d2fd801aa8ff"
      },
      "execution_count": null,
      "outputs": [
        {
          "output_type": "execute_result",
          "data": {
            "text/plain": [
              "True"
            ]
          },
          "metadata": {},
          "execution_count": 15
        }
      ]
    },
    {
      "cell_type": "code",
      "source": [
        "# maior\n",
        "17 > 9"
      ],
      "metadata": {
        "colab": {
          "base_uri": "https://localhost:8080/"
        },
        "id": "HTfOAfAHAJWO",
        "outputId": "16f8e94a-f36b-4479-8070-1b5b0e673be5"
      },
      "execution_count": null,
      "outputs": [
        {
          "output_type": "execute_result",
          "data": {
            "text/plain": [
              "True"
            ]
          },
          "metadata": {},
          "execution_count": 17
        }
      ]
    },
    {
      "cell_type": "code",
      "source": [
        "# maior igual\n",
        "176 >= 175"
      ],
      "metadata": {
        "colab": {
          "base_uri": "https://localhost:8080/"
        },
        "id": "Q3hWATN_ARIn",
        "outputId": "0e7fe491-2850-48f2-c54b-332225629bf0"
      },
      "execution_count": null,
      "outputs": [
        {
          "output_type": "execute_result",
          "data": {
            "text/plain": [
              "True"
            ]
          },
          "metadata": {},
          "execution_count": 23
        }
      ]
    },
    {
      "cell_type": "code",
      "source": [
        "# igual\n",
        "457 == 455"
      ],
      "metadata": {
        "colab": {
          "base_uri": "https://localhost:8080/"
        },
        "id": "r1RXFFNlAtBT",
        "outputId": "e1645c23-82cf-4d21-dcc0-06a2cecd83a1"
      },
      "execution_count": null,
      "outputs": [
        {
          "output_type": "execute_result",
          "data": {
            "text/plain": [
              "False"
            ]
          },
          "metadata": {},
          "execution_count": 25
        }
      ]
    },
    {
      "cell_type": "code",
      "source": [
        "# diferente\n",
        "12 != 15"
      ],
      "metadata": {
        "colab": {
          "base_uri": "https://localhost:8080/"
        },
        "id": "9wOqTdr5A0FE",
        "outputId": "cfe40283-f767-40cc-9f3e-eb5cff03d3aa"
      },
      "execution_count": null,
      "outputs": [
        {
          "output_type": "execute_result",
          "data": {
            "text/plain": [
              "True"
            ]
          },
          "metadata": {},
          "execution_count": 26
        }
      ]
    },
    {
      "cell_type": "markdown",
      "source": [
        "# Operadores Lógicos"
      ],
      "metadata": {
        "id": "W-o5UqX_B9Tp"
      }
    },
    {
      "cell_type": "markdown",
      "source": [
        "* and (e)\n",
        "* or (ou)\n",
        "* not (não)"
      ],
      "metadata": {
        "id": "3sjtPcQlCQjk"
      }
    },
    {
      "cell_type": "markdown",
      "source": [
        "# Tabela Verdade\n",
        "##and"
      ],
      "metadata": {
        "id": "tuqh7pTjCl9q"
      }
    },
    {
      "cell_type": "code",
      "source": [
        "print (108 > 107 and 12 < 11)          # v + f = f\n",
        "print (10 > 11 and 45 < 23)            # f + f = f\n",
        "print (12 != 14 and 145 <= 165)        # v + v = v"
      ],
      "metadata": {
        "colab": {
          "base_uri": "https://localhost:8080/"
        },
        "id": "J8kyjI35DXcN",
        "outputId": "90c9c759-015b-49c0-d627-e6958cf78054"
      },
      "execution_count": null,
      "outputs": [
        {
          "output_type": "stream",
          "name": "stdout",
          "text": [
            "False\n",
            "False\n",
            "True\n"
          ]
        }
      ]
    },
    {
      "cell_type": "markdown",
      "source": [
        "## or"
      ],
      "metadata": {
        "id": "mtZJmAzQEspV"
      }
    },
    {
      "cell_type": "code",
      "source": [
        "print ( 14 < 12 or 234 > 398)      # f + f = f\n",
        "print (145 > 123 or 543 < 650)     # v + f = v\n",
        "print ( 12 > 11 or 19 < 23)        # v + v = v"
      ],
      "metadata": {
        "colab": {
          "base_uri": "https://localhost:8080/"
        },
        "id": "AsvSF8kYEv01",
        "outputId": "91c80286-6cc4-477d-95d1-34be953084ba"
      },
      "execution_count": null,
      "outputs": [
        {
          "output_type": "stream",
          "name": "stdout",
          "text": [
            "False\n",
            "True\n",
            "True\n"
          ]
        }
      ]
    },
    {
      "cell_type": "markdown",
      "source": [
        "## not"
      ],
      "metadata": {
        "id": "dgw3XaLbFkKg"
      }
    },
    {
      "cell_type": "code",
      "source": [
        "not 190238 < 245237      # v = f"
      ],
      "metadata": {
        "colab": {
          "base_uri": "https://localhost:8080/"
        },
        "id": "agZ6JV94Fm75",
        "outputId": "98a951af-c0ec-400e-a5e8-9f33dea798a8"
      },
      "execution_count": null,
      "outputs": [
        {
          "output_type": "execute_result",
          "data": {
            "text/plain": [
              "False"
            ]
          },
          "metadata": {},
          "execution_count": 48
        }
      ]
    },
    {
      "cell_type": "code",
      "source": [
        "not 13 < 11              # f = v"
      ],
      "metadata": {
        "colab": {
          "base_uri": "https://localhost:8080/"
        },
        "id": "6v9-KKlWF_Mi",
        "outputId": "af3e6c89-70d3-46f4-a789-1b3cceb0d6de"
      },
      "execution_count": null,
      "outputs": [
        {
          "output_type": "execute_result",
          "data": {
            "text/plain": [
              "True"
            ]
          },
          "metadata": {},
          "execution_count": 46
        }
      ]
    },
    {
      "cell_type": "markdown",
      "source": [],
      "metadata": {
        "id": "CCOpEE0tZ3o0"
      }
    },
    {
      "cell_type": "markdown",
      "source": [
        "# Variáveis\n",
        "## variáveis estão alocadas em espaços de memória"
      ],
      "metadata": {
        "id": "jjvy0UIrY9Kq"
      }
    },
    {
      "cell_type": "code",
      "source": [
        "x = 19127     # X é o nome da variável que armazena o valor 19127 em um espaço de memória\n",
        "print (x)     # utilizar a referência no nome atribuído"
      ],
      "metadata": {
        "colab": {
          "base_uri": "https://localhost:8080/"
        },
        "id": "6kM-OKskZKbD",
        "outputId": "208e3d09-b06d-4ba8-c1bf-ac9a039a9707"
      },
      "execution_count": 49,
      "outputs": [
        {
          "output_type": "stream",
          "name": "stdout",
          "text": [
            "19127\n"
          ]
        }
      ]
    },
    {
      "cell_type": "markdown",
      "source": [
        "## Regras\n"
      ],
      "metadata": {
        "id": "0V0ja-wBZo4m"
      }
    },
    {
      "cell_type": "markdown",
      "source": [
        "**case sensitive**\n",
        "\n",
        "A != a\n",
        "\n",
        "**boas praticas com variáveis**\n",
        "\n",
        "> Exemplo: soma de dois números\n",
        "\n",
        "não usar:\n",
        "* s      -     muito simples\n",
        "* somadedoisnumeros     -     muito grande\n",
        "* soma_de_dois_numeros_inteiros        -       muito grande\n",
        "\n",
        "usar:\n",
        "* soma\n",
        "* somatotal\n",
        "* soma_total"
      ],
      "metadata": {
        "id": "JfcsAWGvZ5Ox"
      }
    }
  ]
}