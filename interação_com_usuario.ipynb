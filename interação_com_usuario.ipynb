{
  "nbformat": 4,
  "nbformat_minor": 0,
  "metadata": {
    "colab": {
      "provenance": [],
      "authorship_tag": "ABX9TyPzVssUXUEbYFlqGIzx9pxg",
      "include_colab_link": true
    },
    "kernelspec": {
      "name": "python3",
      "display_name": "Python 3"
    },
    "language_info": {
      "name": "python"
    }
  },
  "cells": [
    {
      "cell_type": "markdown",
      "metadata": {
        "id": "view-in-github",
        "colab_type": "text"
      },
      "source": [
        "<a href=\"https://colab.research.google.com/github/rafael-anl/modulo-1-python/blob/main/intera%C3%A7%C3%A3o_com_usuario.ipynb\" target=\"_parent\"><img src=\"https://colab.research.google.com/assets/colab-badge.svg\" alt=\"Open In Colab\"/></a>"
      ]
    },
    {
      "cell_type": "code",
      "execution_count": 12,
      "metadata": {
        "colab": {
          "base_uri": "https://localhost:8080/"
        },
        "id": "3BcG-y031gcq",
        "outputId": "8d77e240-d89d-4d6e-a9d5-26bb9599bc13"
      },
      "outputs": [
        {
          "output_type": "stream",
          "name": "stdout",
          "text": [
            "oi, como posso te ajudar hoje?\n",
            "10\n"
          ]
        }
      ],
      "source": [
        "print (\"oi, como posso te ajudar hoje?\")\n",
        "\n",
        "x = 10\n",
        "print (x)\n",
        "\n",
        "\n"
      ]
    },
    {
      "cell_type": "code",
      "source": [
        "y = 5 * 17 + 5\n",
        "\n",
        "div = y / x\n",
        "print(div)\n"
      ],
      "metadata": {
        "colab": {
          "base_uri": "https://localhost:8080/"
        },
        "id": "gC9fG3o42tw5",
        "outputId": "a6de1bca-05f7-463c-8f9a-f275ed8f5bca"
      },
      "execution_count": 16,
      "outputs": [
        {
          "output_type": "stream",
          "name": "stdout",
          "text": [
            "9.0\n"
          ]
        }
      ]
    },
    {
      "cell_type": "code",
      "source": [
        "nome = \"cristiano ronaldo\"\n",
        "print(nome)"
      ],
      "metadata": {
        "colab": {
          "base_uri": "https://localhost:8080/"
        },
        "id": "gse0dyTO3zcX",
        "outputId": "f32b95e7-a577-419a-b9b8-62330bc3785a"
      },
      "execution_count": 18,
      "outputs": [
        {
          "output_type": "stream",
          "name": "stdout",
          "text": [
            "cristiano ronaldo\n"
          ]
        }
      ]
    },
    {
      "cell_type": "markdown",
      "source": [
        "# concatenação"
      ],
      "metadata": {
        "id": "3BveDcsh4I3d"
      }
    },
    {
      "cell_type": "code",
      "source": [
        "x = 10 * 13 +155 + 5\n",
        "print(\"o valor final de x é\" ,x)"
      ],
      "metadata": {
        "colab": {
          "base_uri": "https://localhost:8080/"
        },
        "id": "HuddrmTu4Nf9",
        "outputId": "ff02f17a-e372-4093-d101-54499475be9e"
      },
      "execution_count": 22,
      "outputs": [
        {
          "output_type": "stream",
          "name": "stdout",
          "text": [
            "o valor final de x é 290\n"
          ]
        }
      ]
    },
    {
      "cell_type": "code",
      "source": [
        "print(\"o valor de x é\" ,x, \"e o dobro do mesmo é\" ,x * 2)"
      ],
      "metadata": {
        "colab": {
          "base_uri": "https://localhost:8080/"
        },
        "id": "Her2719Y43IX",
        "outputId": "4deca1e2-952d-44d2-d6a4-13bfb8ba938d"
      },
      "execution_count": 24,
      "outputs": [
        {
          "output_type": "stream",
          "name": "stdout",
          "text": [
            "o valor de x é 290 e o dobro do mesmo é 580\n"
          ]
        }
      ]
    },
    {
      "cell_type": "code",
      "source": [
        "print(\"eu,\", nome,\"ganhei do meu irmão no fifa\", x / 2,\"vezes\")"
      ],
      "metadata": {
        "colab": {
          "base_uri": "https://localhost:8080/"
        },
        "id": "xFA6NbzT5bOX",
        "outputId": "3b4439b3-0be0-4a5f-eae2-e19d87b82832"
      },
      "execution_count": 26,
      "outputs": [
        {
          "output_type": "stream",
          "name": "stdout",
          "text": [
            "eu, cristiano ronaldo ganhei do meu irmão no fifa 145.0 vezes\n"
          ]
        }
      ]
    },
    {
      "cell_type": "code",
      "source": [
        "y = 10; r = 5 * 12 + 25\n",
        "print(\"declarar mais de uma variável na mesma linha\", y,\"e\", r)"
      ],
      "metadata": {
        "colab": {
          "base_uri": "https://localhost:8080/"
        },
        "id": "kgshvzEX6QDi",
        "outputId": "2c233e9e-7b12-4b6a-8f26-075c9a87194f"
      },
      "execution_count": 28,
      "outputs": [
        {
          "output_type": "stream",
          "name": "stdout",
          "text": [
            "declarar mais de uma variável na mesma linha 10 e 85\n"
          ]
        }
      ]
    },
    {
      "cell_type": "markdown",
      "source": [
        "# Type"
      ],
      "metadata": {
        "id": "6wU7rDGr63uo"
      }
    },
    {
      "cell_type": "code",
      "source": [
        "x = 20\n",
        "print(\"x é\", type(x))"
      ],
      "metadata": {
        "colab": {
          "base_uri": "https://localhost:8080/"
        },
        "id": "zfeIExzy65o2",
        "outputId": "bae8df1c-3c56-463f-f00d-cedc901bd5e7"
      },
      "execution_count": 31,
      "outputs": [
        {
          "output_type": "stream",
          "name": "stdout",
          "text": [
            "x é <class 'int'>\n"
          ]
        }
      ]
    },
    {
      "cell_type": "code",
      "source": [
        "nome = 'lionel ronaldo junior'\n",
        "print(\"nome é\", type(nome))"
      ],
      "metadata": {
        "colab": {
          "base_uri": "https://localhost:8080/"
        },
        "id": "87-3TV8o8xpd",
        "outputId": "a6b0dcfa-6de1-4826-e2d7-cd8de14269f5"
      },
      "execution_count": 34,
      "outputs": [
        {
          "output_type": "stream",
          "name": "stdout",
          "text": [
            "nome é <class 'str'>\n"
          ]
        }
      ]
    },
    {
      "cell_type": "code",
      "source": [
        "x =12.5 ; y = 12 * x + 10\n",
        "soma = x + y\n",
        "print('a soma de x + y é', soma,'e o seu tipo é', type(soma))"
      ],
      "metadata": {
        "colab": {
          "base_uri": "https://localhost:8080/"
        },
        "id": "LMlspJms9Wae",
        "outputId": "34fef769-6319-4315-d4de-e66f23b6c370"
      },
      "execution_count": 42,
      "outputs": [
        {
          "output_type": "stream",
          "name": "stdout",
          "text": [
            "a soma de x + y é 172.5 e o seu tipo é <class 'float'>\n"
          ]
        }
      ]
    },
    {
      "cell_type": "code",
      "source": [
        "x =12 ; y = 12 * x + 10\n",
        "soma = x + y\n",
        "print('a soma de x + y é', soma,'e o seu tipo é', type(soma))"
      ],
      "metadata": {
        "colab": {
          "base_uri": "https://localhost:8080/"
        },
        "id": "fuShtyBz-XGI",
        "outputId": "00e53d09-27f4-42b4-c551-6ca839cf838c"
      },
      "execution_count": 43,
      "outputs": [
        {
          "output_type": "stream",
          "name": "stdout",
          "text": [
            "a soma de x + y é 166 e o seu tipo é <class 'int'>\n"
          ]
        }
      ]
    },
    {
      "cell_type": "code",
      "source": [
        "num = '14526'\n",
        "num_convert = int(num)\n",
        "\n",
        "print(\"num é\", type(num))\n",
        "print(\"num convert é\", type(num_convert))"
      ],
      "metadata": {
        "colab": {
          "base_uri": "https://localhost:8080/"
        },
        "id": "uHGtKWH2-ZuC",
        "outputId": "855fa5c5-5d37-4e64-c8f9-22fd997c5004"
      },
      "execution_count": 46,
      "outputs": [
        {
          "output_type": "stream",
          "name": "stdout",
          "text": [
            "num é <class 'str'>\n",
            "num convert é <class 'int'>\n"
          ]
        }
      ]
    },
    {
      "cell_type": "code",
      "source": [
        "num_float = float(num)\n",
        "print('num float é', num_float)"
      ],
      "metadata": {
        "colab": {
          "base_uri": "https://localhost:8080/"
        },
        "id": "CtTHT9q3_tJ2",
        "outputId": "6c2b30cd-5016-49a5-b55a-223dae9c28c6"
      },
      "execution_count": 48,
      "outputs": [
        {
          "output_type": "stream",
          "name": "stdout",
          "text": [
            "num float é 14526.0\n"
          ]
        }
      ]
    },
    {
      "cell_type": "markdown",
      "source": [
        "# Input\n",
        "## armazenar informções fornecida pelo usuario em uma variável\n",
        "## o dado armazenado sempre será texto"
      ],
      "metadata": {
        "id": "qsitPEkcD5A2"
      }
    },
    {
      "cell_type": "code",
      "source": [
        "nome = input(\"digite o nome do usuário \")\n",
        "print(\"Olá, seja bem vindo\", nome)"
      ],
      "metadata": {
        "colab": {
          "base_uri": "https://localhost:8080/"
        },
        "id": "gsvdby9-EQov",
        "outputId": "c21be717-dddb-4d8f-d91b-019f79279a59"
      },
      "execution_count": 106,
      "outputs": [
        {
          "output_type": "stream",
          "name": "stdout",
          "text": [
            "digite o nome do usuário livinha 2.0\n",
            "Olá, seja bem vindo livinha 2.0\n"
          ]
        }
      ]
    },
    {
      "cell_type": "code",
      "source": [
        "valor = input(\"digite o valor do produto \")\n",
        "print(\"o valor do produto é\", valor)"
      ],
      "metadata": {
        "colab": {
          "base_uri": "https://localhost:8080/"
        },
        "id": "F-ferX0qMUzL",
        "outputId": "8bf7d1c0-27aa-43de-98d7-b14c5b629cef"
      },
      "execution_count": 89,
      "outputs": [
        {
          "output_type": "stream",
          "name": "stdout",
          "text": [
            "digite o valor do produto 34\n",
            "o valor do produto é 34\n"
          ]
        }
      ]
    },
    {
      "cell_type": "code",
      "source": [
        "desconto = valor - 5      # deu errado pois tem que especificar o tipo da variável"
      ],
      "metadata": {
        "colab": {
          "base_uri": "https://localhost:8080/",
          "height": 141
        },
        "id": "OlkQwpOQMpYB",
        "outputId": "02c614ca-6830-47bf-d22c-a7769cb226ea"
      },
      "execution_count": 96,
      "outputs": [
        {
          "output_type": "error",
          "ename": "TypeError",
          "evalue": "unsupported operand type(s) for -: 'str' and 'int'",
          "traceback": [
            "\u001b[0;31m---------------------------------------------------------------------------\u001b[0m",
            "\u001b[0;31mTypeError\u001b[0m                                 Traceback (most recent call last)",
            "\u001b[0;32m<ipython-input-96-4693ea9a50ed>\u001b[0m in \u001b[0;36m<cell line: 0>\u001b[0;34m()\u001b[0m\n\u001b[0;32m----> 1\u001b[0;31m \u001b[0mdesconto\u001b[0m \u001b[0;34m=\u001b[0m \u001b[0mvalor\u001b[0m \u001b[0;34m-\u001b[0m \u001b[0;36m5\u001b[0m\u001b[0;34m\u001b[0m\u001b[0;34m\u001b[0m\u001b[0m\n\u001b[0m",
            "\u001b[0;31mTypeError\u001b[0m: unsupported operand type(s) for -: 'str' and 'int'"
          ]
        }
      ]
    },
    {
      "cell_type": "code",
      "source": [
        "desconto = int(valor) - 5\n",
        "print(\"o valor do produto com desconto é\", desconto)"
      ],
      "metadata": {
        "colab": {
          "base_uri": "https://localhost:8080/"
        },
        "id": "LgBjwl5XNHVC",
        "outputId": "0a45965d-7857-4705-fcf2-38ae758e3f37"
      },
      "execution_count": 97,
      "outputs": [
        {
          "output_type": "stream",
          "name": "stdout",
          "text": [
            "o valor do produto com desconto é 29\n"
          ]
        }
      ]
    },
    {
      "cell_type": "markdown",
      "source": [
        "## ou"
      ],
      "metadata": {
        "id": "9DjGd_MgNRLU"
      }
    },
    {
      "cell_type": "code",
      "source": [
        "valor_convert = int(valor)\n",
        "desconto = valor_convert - 5\n",
        "print(\"o valor do produto com desconto é\", desconto)"
      ],
      "metadata": {
        "colab": {
          "base_uri": "https://localhost:8080/"
        },
        "id": "NfDZxfVXNSpF",
        "outputId": "a4c779cb-8c38-4d76-810c-87f79b01f808"
      },
      "execution_count": 98,
      "outputs": [
        {
          "output_type": "stream",
          "name": "stdout",
          "text": [
            "o valor do produto com desconto é 29\n"
          ]
        }
      ]
    },
    {
      "cell_type": "code",
      "source": [
        "valor = input(\"digite sua nota \")\n",
        "valor = float(valor)\n",
        "if valor >= 6:\n",
        "  print(\"Você foi aprovado/a, parabéns\", nome)\n",
        "else:\n",
        "  print(\"Que pena, você foi reprovado/a\", nome)"
      ],
      "metadata": {
        "colab": {
          "base_uri": "https://localhost:8080/"
        },
        "id": "TrpKxKjRE8rq",
        "outputId": "a04f4418-4a2e-46e6-8b38-9d35291251a5"
      },
      "execution_count": 109,
      "outputs": [
        {
          "output_type": "stream",
          "name": "stdout",
          "text": [
            "digite sua nota 4\n",
            "Que pena, você foi reprovado/a livinha 2.0\n"
          ]
        }
      ]
    },
    {
      "cell_type": "code",
      "source": [],
      "metadata": {
        "id": "pHV6XrjwLLoS"
      },
      "execution_count": null,
      "outputs": []
    }
  ]
}